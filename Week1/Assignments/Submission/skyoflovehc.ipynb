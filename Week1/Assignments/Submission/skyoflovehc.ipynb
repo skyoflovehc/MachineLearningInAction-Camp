{
 "cells": [
  {
   "cell_type": "code",
   "execution_count": 6,
   "metadata": {},
   "outputs": [],
   "source": [
    "import matplotlib.pyplot as plt\n",
    "%matplotlib notebook \n",
    "# import seaborn as sns\n",
    "\n",
    "# sns.set(style='whitegrid', context='notebook')\n",
    "# sns.reset_orig()\n",
    "\n",
    "import pandas as pd\n",
    "import numpy as np\n",
    "\n"
   ]
  },
  {
   "cell_type": "markdown",
   "metadata": {},
   "source": [
    "## 一、numpy用法举例\n"
   ]
  },
  {
   "cell_type": "markdown",
   "metadata": {},
   "source": [
    "### 1.array：基本的数组类型\n"
   ]
  },
  {
   "cell_type": "code",
   "execution_count": 8,
   "metadata": {},
   "outputs": [
    {
     "data": {
      "text/plain": [
       "array([[1., 9., 9., 1.],\n",
       "       [2., 0., 1., 6.]], dtype=float32)"
      ]
     },
     "execution_count": 8,
     "metadata": {},
     "output_type": "execute_result"
    }
   ],
   "source": [
    "np.array(object=[[1, 9, 9, 1], [2, 0, 1, 6]], dtype=np.float32)\n"
   ]
  },
  {
   "cell_type": "markdown",
   "metadata": {},
   "source": [
    "### 2.zeros：生成值为0的数组\n",
    "\n"
   ]
  },
  {
   "cell_type": "code",
   "execution_count": 9,
   "metadata": {},
   "outputs": [
    {
     "data": {
      "text/plain": [
       "array([[0, 0, 0, 0],\n",
       "       [0, 0, 0, 0]])"
      ]
     },
     "execution_count": 9,
     "metadata": {},
     "output_type": "execute_result"
    }
   ],
   "source": [
    "np.zeros(shape=(2, 4), dtype=int)\n"
   ]
  },
  {
   "cell_type": "markdown",
   "metadata": {},
   "source": [
    "### 3.arange：数组生成（开始，结尾，步长）"
   ]
  },
  {
   "cell_type": "code",
   "execution_count": 10,
   "metadata": {},
   "outputs": [
    {
     "data": {
      "text/plain": [
       "array([1.5, 2.2, 2.9, 3.6, 4.3, 5. , 5.7, 6.4, 7.1, 7.8])"
      ]
     },
     "execution_count": 10,
     "metadata": {},
     "output_type": "execute_result"
    }
   ],
   "source": [
    "np.arange(start=1.5, stop=8.5, step=0.7, dtype=float)\n"
   ]
  },
  {
   "cell_type": "markdown",
   "metadata": {},
   "source": [
    "### 4.求和：sum"
   ]
  },
  {
   "cell_type": "code",
   "execution_count": 11,
   "metadata": {},
   "outputs": [
    {
     "name": "stdout",
     "output_type": "stream",
     "text": [
      "[[ 0  1  2  3]\n",
      " [ 4  5  6  7]\n",
      " [ 8  9 10 11]]\n",
      "\n",
      "sum entire array = 66\n",
      "sum along columns = [12 15 18 21]\n",
      "sum along rows = [ 6 22 38]\n"
     ]
    }
   ],
   "source": [
    "vals = np.arange(0, 12, 1).reshape((3, 4))\n",
    "print(vals)\n",
    "print('')\n",
    "print('sum entire array =', np.sum(vals))\n",
    "print('sum along columns =', np.sum(vals, axis=0))\n",
    "print('sum along rows =', np.sum(vals, axis=1))\n"
   ]
  },
  {
   "cell_type": "markdown",
   "metadata": {},
   "source": [
    "## 二、pandas用法举例"
   ]
  },
  {
   "cell_type": "markdown",
   "metadata": {},
   "source": [
    "### 1.DataFrame:表格型数据结构"
   ]
  },
  {
   "cell_type": "code",
   "execution_count": 12,
   "metadata": {},
   "outputs": [
    {
     "name": "stdout",
     "output_type": "stream",
     "text": [
      "<class 'pandas.core.frame.DataFrame'>\n",
      "y             int64\n",
      "score       float64\n",
      "name         object\n",
      "birthday     object\n",
      "dtype: object\n"
     ]
    },
    {
     "data": {
      "text/html": [
       "<div>\n",
       "<style scoped>\n",
       "    .dataframe tbody tr th:only-of-type {\n",
       "        vertical-align: middle;\n",
       "    }\n",
       "\n",
       "    .dataframe tbody tr th {\n",
       "        vertical-align: top;\n",
       "    }\n",
       "\n",
       "    .dataframe thead th {\n",
       "        text-align: right;\n",
       "    }\n",
       "</style>\n",
       "<table border=\"1\" class=\"dataframe\">\n",
       "  <thead>\n",
       "    <tr style=\"text-align: right;\">\n",
       "      <th></th>\n",
       "      <th>y</th>\n",
       "      <th>score</th>\n",
       "      <th>name</th>\n",
       "      <th>birthday</th>\n",
       "    </tr>\n",
       "  </thead>\n",
       "  <tbody>\n",
       "    <tr>\n",
       "      <th>0</th>\n",
       "      <td>1</td>\n",
       "      <td>93.5</td>\n",
       "      <td>Dirac</td>\n",
       "      <td>1902-08-08</td>\n",
       "    </tr>\n",
       "    <tr>\n",
       "      <th>1</th>\n",
       "      <td>2</td>\n",
       "      <td>89.4</td>\n",
       "      <td>Pauli</td>\n",
       "      <td>1900-04-25</td>\n",
       "    </tr>\n",
       "    <tr>\n",
       "      <th>2</th>\n",
       "      <td>3</td>\n",
       "      <td>90.3</td>\n",
       "      <td>Bohr</td>\n",
       "      <td>1895-10-07</td>\n",
       "    </tr>\n",
       "  </tbody>\n",
       "</table>\n",
       "</div>"
      ],
      "text/plain": [
       "   y  score   name    birthday\n",
       "0  1   93.5  Dirac  1902-08-08\n",
       "1  2   89.4  Pauli  1900-04-25\n",
       "2  3   90.3   Bohr  1895-10-07"
      ]
     },
     "execution_count": 12,
     "metadata": {},
     "output_type": "execute_result"
    }
   ],
   "source": [
    "df = pd.DataFrame(data={'y': [1, 2, 3],\n",
    "                       'score': [93.5, 89.4, 90.3],\n",
    "                       'name': ['Dirac', 'Pauli', 'Bohr'],\n",
    "                       'birthday': ['1902-08-08', '1900-04-25', '1895-10-07']})\n",
    "print(type(df))\n",
    "print(df.dtypes)\n",
    "df\n"
   ]
  },
  {
   "cell_type": "markdown",
   "metadata": {},
   "source": [
    "### 2.read_csv：读取csv数据方法"
   ]
  },
  {
   "cell_type": "code",
   "execution_count": 15,
   "metadata": {},
   "outputs": [],
   "source": [
    "df.to_csv(\"./test.csv\")\n"
   ]
  },
  {
   "cell_type": "code",
   "execution_count": 17,
   "metadata": {},
   "outputs": [
    {
     "data": {
      "text/html": [
       "<div>\n",
       "<style scoped>\n",
       "    .dataframe tbody tr th:only-of-type {\n",
       "        vertical-align: middle;\n",
       "    }\n",
       "\n",
       "    .dataframe tbody tr th {\n",
       "        vertical-align: top;\n",
       "    }\n",
       "\n",
       "    .dataframe thead th {\n",
       "        text-align: right;\n",
       "    }\n",
       "</style>\n",
       "<table border=\"1\" class=\"dataframe\">\n",
       "  <thead>\n",
       "    <tr style=\"text-align: right;\">\n",
       "      <th></th>\n",
       "      <th>Unnamed: 0</th>\n",
       "      <th>y</th>\n",
       "      <th>score</th>\n",
       "      <th>name</th>\n",
       "      <th>birthday</th>\n",
       "    </tr>\n",
       "  </thead>\n",
       "  <tbody>\n",
       "    <tr>\n",
       "      <th>0</th>\n",
       "      <td>0</td>\n",
       "      <td>1</td>\n",
       "      <td>93.5</td>\n",
       "      <td>Dirac</td>\n",
       "      <td>1902-08-08</td>\n",
       "    </tr>\n",
       "    <tr>\n",
       "      <th>1</th>\n",
       "      <td>1</td>\n",
       "      <td>2</td>\n",
       "      <td>89.4</td>\n",
       "      <td>Pauli</td>\n",
       "      <td>1900-04-25</td>\n",
       "    </tr>\n",
       "    <tr>\n",
       "      <th>2</th>\n",
       "      <td>2</td>\n",
       "      <td>3</td>\n",
       "      <td>90.3</td>\n",
       "      <td>Bohr</td>\n",
       "      <td>1895-10-07</td>\n",
       "    </tr>\n",
       "  </tbody>\n",
       "</table>\n",
       "</div>"
      ],
      "text/plain": [
       "   Unnamed: 0  y  score   name    birthday\n",
       "0           0  1   93.5  Dirac  1902-08-08\n",
       "1           1  2   89.4  Pauli  1900-04-25\n",
       "2           2  3   90.3   Bohr  1895-10-07"
      ]
     },
     "execution_count": 17,
     "metadata": {},
     "output_type": "execute_result"
    }
   ],
   "source": [
    "df = pd.read_csv(\"./test.csv\")\n",
    "df\n"
   ]
  },
  {
   "cell_type": "markdown",
   "metadata": {},
   "source": [
    "### 3.Series：类似于一维数组的对象"
   ]
  },
  {
   "cell_type": "code",
   "execution_count": 18,
   "metadata": {
    "scrolled": false
   },
   "outputs": [
    {
     "name": "stdout",
     "output_type": "stream",
     "text": [
      "<class 'pandas.core.series.Series'>\n"
     ]
    },
    {
     "data": {
      "text/plain": [
       "0    93.5\n",
       "1    89.4\n",
       "2    90.3\n",
       "Name: score, dtype: float64"
      ]
     },
     "execution_count": 18,
     "metadata": {},
     "output_type": "execute_result"
    }
   ],
   "source": [
    "items = pd.Series(data=[93.5, 89.4, 90.3], name='score')\n",
    "print(type(items))\n",
    "items\n"
   ]
  },
  {
   "cell_type": "markdown",
   "metadata": {},
   "source": [
    "### 4.concat:合并不同的轴数据"
   ]
  },
  {
   "cell_type": "code",
   "execution_count": 20,
   "metadata": {
    "scrolled": false
   },
   "outputs": [
    {
     "name": "stdout",
     "output_type": "stream",
     "text": [
      "\n",
      "0    1902-08-08\n",
      "1    1900-04-25\n",
      "Name: birthday, dtype: object\n",
      "\n",
      "按列合并到一起:\n",
      "0          93.5\n",
      "1          89.4\n",
      "2          90.3\n",
      "0    1902-08-08\n",
      "1    1900-04-25\n",
      "dtype: object\n",
      "\n",
      "按行合并到一起:\n",
      "   score    birthday\n",
      "0   93.5  1902-08-08\n",
      "1   89.4  1900-04-25\n",
      "2   90.3         NaN\n"
     ]
    }
   ],
   "source": [
    "items2 = pd.Series(data=['1902-08-08', '1900-04-25'], name='birthday')\n",
    "print('')\n",
    "print(items2)\n",
    "print('')\n",
    "print('按列合并到一起:')\n",
    "print(pd.concat(objs=[items, items2], axis=0))\n",
    "print('')\n",
    "print('按行合并到一起:')\n",
    "print(pd.concat(objs=[items, items2], axis=1))\n"
   ]
  },
  {
   "cell_type": "code",
   "execution_count": 21,
   "metadata": {},
   "outputs": [
    {
     "data": {
      "text/html": [
       "<div>\n",
       "<style scoped>\n",
       "    .dataframe tbody tr th:only-of-type {\n",
       "        vertical-align: middle;\n",
       "    }\n",
       "\n",
       "    .dataframe tbody tr th {\n",
       "        vertical-align: top;\n",
       "    }\n",
       "\n",
       "    .dataframe thead th {\n",
       "        text-align: right;\n",
       "    }\n",
       "</style>\n",
       "<table border=\"1\" class=\"dataframe\">\n",
       "  <thead>\n",
       "    <tr style=\"text-align: right;\">\n",
       "      <th></th>\n",
       "      <th>Unnamed: 0</th>\n",
       "      <th>y</th>\n",
       "      <th>score</th>\n",
       "      <th>name</th>\n",
       "      <th>birthday</th>\n",
       "    </tr>\n",
       "  </thead>\n",
       "  <tbody>\n",
       "    <tr>\n",
       "      <th>0</th>\n",
       "      <td>0</td>\n",
       "      <td>1</td>\n",
       "      <td>93.5</td>\n",
       "      <td>Dirac</td>\n",
       "      <td>1902-08-08</td>\n",
       "    </tr>\n",
       "    <tr>\n",
       "      <th>1</th>\n",
       "      <td>1</td>\n",
       "      <td>2</td>\n",
       "      <td>89.4</td>\n",
       "      <td>Pauli</td>\n",
       "      <td>1900-04-25</td>\n",
       "    </tr>\n",
       "    <tr>\n",
       "      <th>2</th>\n",
       "      <td>2</td>\n",
       "      <td>3</td>\n",
       "      <td>90.3</td>\n",
       "      <td>Bohr</td>\n",
       "      <td>1895-10-07</td>\n",
       "    </tr>\n",
       "  </tbody>\n",
       "</table>\n",
       "</div>"
      ],
      "text/plain": [
       "   Unnamed: 0  y  score   name    birthday\n",
       "0           0  1   93.5  Dirac  1902-08-08\n",
       "1           1  2   89.4  Pauli  1900-04-25\n",
       "2           2  3   90.3   Bohr  1895-10-07"
      ]
     },
     "execution_count": 21,
     "metadata": {},
     "output_type": "execute_result"
    }
   ],
   "source": [
    "df"
   ]
  },
  {
   "cell_type": "code",
   "execution_count": 22,
   "metadata": {},
   "outputs": [
    {
     "data": {
      "text/plain": [
       "0   1902-08-08\n",
       "1   1900-04-25\n",
       "2   1895-10-07\n",
       "Name: birthday, dtype: datetime64[ns]"
      ]
     },
     "execution_count": 22,
     "metadata": {},
     "output_type": "execute_result"
    }
   ],
   "source": [
    "pd.to_datetime(arg=df.birthday, format='%Y-%m-%d')"
   ]
  },
  {
   "cell_type": "markdown",
   "metadata": {},
   "source": [
    "### 5.merge:数据合并"
   ]
  },
  {
   "cell_type": "code",
   "execution_count": 23,
   "metadata": {},
   "outputs": [
    {
     "data": {
      "text/html": [
       "<div>\n",
       "<style scoped>\n",
       "    .dataframe tbody tr th:only-of-type {\n",
       "        vertical-align: middle;\n",
       "    }\n",
       "\n",
       "    .dataframe tbody tr th {\n",
       "        vertical-align: top;\n",
       "    }\n",
       "\n",
       "    .dataframe thead th {\n",
       "        text-align: right;\n",
       "    }\n",
       "</style>\n",
       "<table border=\"1\" class=\"dataframe\">\n",
       "  <thead>\n",
       "    <tr style=\"text-align: right;\">\n",
       "      <th></th>\n",
       "      <th>Unnamed: 0</th>\n",
       "      <th>y</th>\n",
       "      <th>score</th>\n",
       "      <th>name</th>\n",
       "      <th>birthday</th>\n",
       "      <th>friendly</th>\n",
       "    </tr>\n",
       "  </thead>\n",
       "  <tbody>\n",
       "    <tr>\n",
       "      <th>0</th>\n",
       "      <td>0.0</td>\n",
       "      <td>1.0</td>\n",
       "      <td>93.5</td>\n",
       "      <td>Dirac</td>\n",
       "      <td>1902-08-08</td>\n",
       "      <td>True</td>\n",
       "    </tr>\n",
       "    <tr>\n",
       "      <th>1</th>\n",
       "      <td>1.0</td>\n",
       "      <td>2.0</td>\n",
       "      <td>89.4</td>\n",
       "      <td>Pauli</td>\n",
       "      <td>1900-04-25</td>\n",
       "      <td>False</td>\n",
       "    </tr>\n",
       "    <tr>\n",
       "      <th>2</th>\n",
       "      <td>2.0</td>\n",
       "      <td>3.0</td>\n",
       "      <td>90.3</td>\n",
       "      <td>Bohr</td>\n",
       "      <td>1895-10-07</td>\n",
       "      <td>True</td>\n",
       "    </tr>\n",
       "    <tr>\n",
       "      <th>3</th>\n",
       "      <td>NaN</td>\n",
       "      <td>NaN</td>\n",
       "      <td>NaN</td>\n",
       "      <td>Einstein</td>\n",
       "      <td>NaN</td>\n",
       "      <td>True</td>\n",
       "    </tr>\n",
       "  </tbody>\n",
       "</table>\n",
       "</div>"
      ],
      "text/plain": [
       "   Unnamed: 0    y  score      name    birthday  friendly\n",
       "0         0.0  1.0   93.5     Dirac  1902-08-08      True\n",
       "1         1.0  2.0   89.4     Pauli  1900-04-25     False\n",
       "2         2.0  3.0   90.3      Bohr  1895-10-07      True\n",
       "3         NaN  NaN    NaN  Einstein         NaN      True"
      ]
     },
     "execution_count": 23,
     "metadata": {},
     "output_type": "execute_result"
    }
   ],
   "source": [
    "df_new = pd.DataFrame(data=list(zip(['Dirac', 'Pauli', 'Bohr', 'Einstein'],\n",
    "                                    [True, False, True, True])),\n",
    "                      columns=['name', 'friendly'])\n",
    "\n",
    "df_merge = pd.merge(left=df, right=df_new, on='name', how='outer')\n",
    "df_merge\n"
   ]
  },
  {
   "cell_type": "markdown",
   "metadata": {},
   "source": [
    "## 三、matplotlib用法举例"
   ]
  },
  {
   "cell_type": "markdown",
   "metadata": {},
   "source": [
    "### 1. 折线图"
   ]
  },
  {
   "cell_type": "code",
   "execution_count": 38,
   "metadata": {},
   "outputs": [
    {
     "data": {
      "text/plain": [
       "<IPython.core.display.Javascript object>"
      ]
     },
     "metadata": {},
     "output_type": "display_data"
    },
    {
     "data": {
      "text/html": [
       "<img src=\"data:image/png;base64,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\" width=\"640\">"
      ],
      "text/plain": [
       "<IPython.core.display.HTML object>"
      ]
     },
     "metadata": {},
     "output_type": "execute_result"
    }
   ],
   "source": [
    "x= np.linspace(0, 2, 100)\n",
    "\n",
    "plt.plot(x, x, label='linear')\n",
    "plt.plot(x, x**2, label='quadratic')\n",
    "plt.plot(x, x**3, label='cubic')\n",
    "\n",
    "plt.xlabel('x label')\n",
    "plt.ylabel('y label')\n",
    "\n",
    "plt.title(\"Simple Plot\")\n",
    "\n",
    "plt.legend();\n",
    "\n",
    "\n",
    "\n"
   ]
  },
  {
   "cell_type": "markdown",
   "metadata": {},
   "source": [
    "### 2.散点图"
   ]
  },
  {
   "cell_type": "code",
   "execution_count": 37,
   "metadata": {},
   "outputs": [
    {
     "data": {
      "text/plain": [
       "[<matplotlib.lines.Line2D at 0x1458cfe2c50>,\n",
       " <matplotlib.lines.Line2D at 0x1458cfe2d30>,\n",
       " <matplotlib.lines.Line2D at 0x1458cfe2f98>]"
      ]
     },
     "execution_count": 37,
     "metadata": {},
     "output_type": "execute_result"
    }
   ],
   "source": [
    "x = np.arange(0., 5., 0.2)\n",
    "\n",
    "# 红色破折号, 蓝色方块 ，绿色三角块\n",
    "plt.plot(x, x, 'r--', x, x**2, 'bs', x, x**3, 'g^')\n",
    "plt.show()\n",
    "\n",
    "\n"
   ]
  },
  {
   "cell_type": "markdown",
   "metadata": {},
   "source": [
    "### 3. 直方图"
   ]
  },
  {
   "cell_type": "code",
   "execution_count": 32,
   "metadata": {},
   "outputs": [
    {
     "data": {
      "text/plain": [
       "<IPython.core.display.Javascript object>"
      ]
     },
     "metadata": {},
     "output_type": "display_data"
    },
    {
     "data": {
      "text/html": [
       "<img src=\"data:image/png;base64,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\" width=\"640\">"
      ],
      "text/plain": [
       "<IPython.core.display.HTML object>"
      ]
     },
     "metadata": {},
     "output_type": "execute_result"
    },
    {
     "data": {
      "text/plain": [
       "Text(0.5, 0, 'Smarts')"
      ]
     },
     "execution_count": 32,
     "metadata": {},
     "output_type": "execute_result"
    },
    {
     "data": {
      "text/plain": [
       "Text(0, 0.5, 'Probability')"
      ]
     },
     "execution_count": 32,
     "metadata": {},
     "output_type": "execute_result"
    },
    {
     "data": {
      "text/plain": [
       "Text(0.5, 1.0, 'Histogram of IQ')"
      ]
     },
     "execution_count": 32,
     "metadata": {},
     "output_type": "execute_result"
    },
    {
     "data": {
      "text/plain": [
       "Text(110, 0.025, '$\\\\mu=100,\\\\ \\\\sigma=15$')"
      ]
     },
     "execution_count": 32,
     "metadata": {},
     "output_type": "execute_result"
    },
    {
     "data": {
      "text/plain": [
       "Text(50, 0.025, '$\\\\mu=80,\\\\ \\\\sigma=15$')"
      ]
     },
     "execution_count": 32,
     "metadata": {},
     "output_type": "execute_result"
    },
    {
     "data": {
      "text/plain": [
       "[40, 160, 0, 0.03]"
      ]
     },
     "execution_count": 32,
     "metadata": {},
     "output_type": "execute_result"
    }
   ],
   "source": [
    "np.random.seed(19680801)\n",
    "\n",
    "mu1, sigma1 = 100, 15\n",
    "mu2, sigma2 = 80, 15\n",
    "x1 = mu1 + sigma1 * np.random.randn(10000)\n",
    "x2 = mu2 + sigma2 * np.random.randn(10000)\n",
    "\n",
    "# the histogram of the data\n",
    "# 50：将数据分成50组\n",
    "# facecolor：颜色；alpha：透明度\n",
    "# density：是密度而不是具体数值\n",
    "n1, bins1, patches1 = plt.hist(x1, 50, density=True, facecolor='g', alpha=1)\n",
    "n2, bins2, patches2 = plt.hist(x2, 50, density=True, facecolor='r', alpha=0.2)\n",
    "\n",
    "# n：概率值；bins：具体数值；patches：直方图对象。\n",
    "\n",
    "plt.xlabel('Smarts')\n",
    "plt.ylabel('Probability')\n",
    "plt.title('Histogram of IQ')\n",
    "\n",
    "plt.text(110, .025, r'$\\mu=100,\\ \\sigma=15$')\n",
    "plt.text(50, .025, r'$\\mu=80,\\ \\sigma=15$')\n",
    "\n",
    "# 设置x，y轴的具体范围\n",
    "plt.axis([40, 160, 0, 0.03])\n",
    "plt.grid(True)"
   ]
  },
  {
   "cell_type": "code",
   "execution_count": null,
   "metadata": {},
   "outputs": [],
   "source": []
  },
  {
   "cell_type": "code",
   "execution_count": null,
   "metadata": {},
   "outputs": [],
   "source": []
  },
  {
   "cell_type": "code",
   "execution_count": null,
   "metadata": {},
   "outputs": [],
   "source": []
  }
 ],
 "metadata": {
  "kernelspec": {
   "display_name": "Python 3",
   "language": "python",
   "name": "python3"
  },
  "language_info": {
   "codemirror_mode": {
    "name": "ipython",
    "version": 3
   },
   "file_extension": ".py",
   "mimetype": "text/x-python",
   "name": "python",
   "nbconvert_exporter": "python",
   "pygments_lexer": "ipython3",
   "version": "3.6.4"
  }
 },
 "nbformat": 4,
 "nbformat_minor": 2
}
